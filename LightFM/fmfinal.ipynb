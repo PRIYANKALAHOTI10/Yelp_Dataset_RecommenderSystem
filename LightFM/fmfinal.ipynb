{
  "nbformat": 4,
  "nbformat_minor": 0,
  "metadata": {
    "kernelspec": {
      "name": "python3",
      "display_name": "Python 3"
    },
    "language_info": {
      "codemirror_mode": {
        "name": "ipython",
        "version": 3
      },
      "file_extension": ".py",
      "mimetype": "text/x-python",
      "name": "python",
      "nbconvert_exporter": "python",
      "pygments_lexer": "ipython3",
      "version": "3.6.5"
    },
    "colab": {
      "name": "fmfinal.ipynb",
      "provenance": [],
      "collapsed_sections": [],
      "machine_shape": "hm"
    },
    "accelerator": "GPU"
  },
  "cells": [
    {
      "cell_type": "code",
      "metadata": {
        "id": "BndN5k7CxzW1",
        "colab_type": "code",
        "outputId": "b6323068-0988-43aa-8443-4ffa3a5307cc",
        "colab": {
          "base_uri": "https://localhost:8080/",
          "height": 124
        }
      },
      "source": [
        "from google.colab import drive\n",
        "drive.mount('/content/drive')"
      ],
      "execution_count": 1,
      "outputs": [
        {
          "output_type": "stream",
          "text": [
            "Go to this URL in a browser: https://accounts.google.com/o/oauth2/auth?client_id=947318989803-6bn6qk8qdgf4n4g3pfee6491hc0brc4i.apps.googleusercontent.com&redirect_uri=urn%3aietf%3awg%3aoauth%3a2.0%3aoob&response_type=code&scope=email%20https%3a%2f%2fwww.googleapis.com%2fauth%2fdocs.test%20https%3a%2f%2fwww.googleapis.com%2fauth%2fdrive%20https%3a%2f%2fwww.googleapis.com%2fauth%2fdrive.photos.readonly%20https%3a%2f%2fwww.googleapis.com%2fauth%2fpeopleapi.readonly\n",
            "\n",
            "Enter your authorization code:\n",
            "··········\n",
            "Mounted at /content/drive\n"
          ],
          "name": "stdout"
        }
      ]
    },
    {
      "cell_type": "code",
      "metadata": {
        "id": "Wlm48Cz0LhW-",
        "colab_type": "code",
        "outputId": "f89d5eba-d7cf-4401-f1da-1bcadbb1fced",
        "colab": {
          "base_uri": "https://localhost:8080/",
          "height": 332
        }
      },
      "source": [
        "!pip install lightfm"
      ],
      "execution_count": 2,
      "outputs": [
        {
          "output_type": "stream",
          "text": [
            "Collecting lightfm\n",
            "\u001b[?25l  Downloading https://files.pythonhosted.org/packages/e9/8e/5485ac5a8616abe1c673d1e033e2f232b4319ab95424b42499fabff2257f/lightfm-1.15.tar.gz (302kB)\n",
            "\r\u001b[K     |█                               | 10kB 23.9MB/s eta 0:00:01\r\u001b[K     |██▏                             | 20kB 3.0MB/s eta 0:00:01\r\u001b[K     |███▎                            | 30kB 4.3MB/s eta 0:00:01\r\u001b[K     |████▍                           | 40kB 2.9MB/s eta 0:00:01\r\u001b[K     |█████▍                          | 51kB 3.6MB/s eta 0:00:01\r\u001b[K     |██████▌                         | 61kB 4.3MB/s eta 0:00:01\r\u001b[K     |███████▋                        | 71kB 4.9MB/s eta 0:00:01\r\u001b[K     |████████▊                       | 81kB 5.6MB/s eta 0:00:01\r\u001b[K     |█████████▊                      | 92kB 6.2MB/s eta 0:00:01\r\u001b[K     |██████████▉                     | 102kB 4.8MB/s eta 0:00:01\r\u001b[K     |████████████                    | 112kB 4.8MB/s eta 0:00:01\r\u001b[K     |█████████████                   | 122kB 4.8MB/s eta 0:00:01\r\u001b[K     |██████████████                  | 133kB 4.8MB/s eta 0:00:01\r\u001b[K     |███████████████▏                | 143kB 4.8MB/s eta 0:00:01\r\u001b[K     |████████████████▎               | 153kB 4.8MB/s eta 0:00:01\r\u001b[K     |█████████████████▍              | 163kB 4.8MB/s eta 0:00:01\r\u001b[K     |██████████████████▍             | 174kB 4.8MB/s eta 0:00:01\r\u001b[K     |███████████████████▌            | 184kB 4.8MB/s eta 0:00:01\r\u001b[K     |████████████████████▋           | 194kB 4.8MB/s eta 0:00:01\r\u001b[K     |█████████████████████▊          | 204kB 4.8MB/s eta 0:00:01\r\u001b[K     |██████████████████████▊         | 215kB 4.8MB/s eta 0:00:01\r\u001b[K     |███████████████████████▉        | 225kB 4.8MB/s eta 0:00:01\r\u001b[K     |█████████████████████████       | 235kB 4.8MB/s eta 0:00:01\r\u001b[K     |██████████████████████████      | 245kB 4.8MB/s eta 0:00:01\r\u001b[K     |███████████████████████████     | 256kB 4.8MB/s eta 0:00:01\r\u001b[K     |████████████████████████████▏   | 266kB 4.8MB/s eta 0:00:01\r\u001b[K     |█████████████████████████████▎  | 276kB 4.8MB/s eta 0:00:01\r\u001b[K     |██████████████████████████████▍ | 286kB 4.8MB/s eta 0:00:01\r\u001b[K     |███████████████████████████████▍| 296kB 4.8MB/s eta 0:00:01\r\u001b[K     |████████████████████████████████| 307kB 4.8MB/s \n",
            "\u001b[?25hRequirement already satisfied: numpy in /usr/local/lib/python3.6/dist-packages (from lightfm) (1.17.4)\n",
            "Requirement already satisfied: scipy>=0.17.0 in /usr/local/lib/python3.6/dist-packages (from lightfm) (1.3.3)\n",
            "Requirement already satisfied: requests in /usr/local/lib/python3.6/dist-packages (from lightfm) (2.21.0)\n",
            "Requirement already satisfied: chardet<3.1.0,>=3.0.2 in /usr/local/lib/python3.6/dist-packages (from requests->lightfm) (3.0.4)\n",
            "Requirement already satisfied: certifi>=2017.4.17 in /usr/local/lib/python3.6/dist-packages (from requests->lightfm) (2019.11.28)\n",
            "Requirement already satisfied: urllib3<1.25,>=1.21.1 in /usr/local/lib/python3.6/dist-packages (from requests->lightfm) (1.24.3)\n",
            "Requirement already satisfied: idna<2.9,>=2.5 in /usr/local/lib/python3.6/dist-packages (from requests->lightfm) (2.8)\n",
            "Building wheels for collected packages: lightfm\n",
            "  Building wheel for lightfm (setup.py) ... \u001b[?25l\u001b[?25hdone\n",
            "  Created wheel for lightfm: filename=lightfm-1.15-cp36-cp36m-linux_x86_64.whl size=707621 sha256=439d0fa1dcd85fe44ec4aba9dff7f29066a2c4449b3c0206d40c4754530c5c7b\n",
            "  Stored in directory: /root/.cache/pip/wheels/eb/bb/ac/188385a5da6627956be5d9663928483b36da576149ab5b8f79\n",
            "Successfully built lightfm\n",
            "Installing collected packages: lightfm\n",
            "Successfully installed lightfm-1.15\n"
          ],
          "name": "stdout"
        }
      ]
    },
    {
      "cell_type": "markdown",
      "metadata": {
        "id": "3OxElD7mmlwT",
        "colab_type": "text"
      },
      "source": [
        "Importing libraries\n"
      ]
    },
    {
      "cell_type": "code",
      "metadata": {
        "id": "5VZ4IrCRve6y",
        "colab_type": "code",
        "colab": {}
      },
      "source": [
        "import numpy as np\n",
        "import pandas as pd\n",
        "import matplotlib.pyplot as plt\n",
        "from lightfm import LightFM\n",
        "from lightfm.evaluation import precision_at_k,auc_score,reciprocal_rank\n",
        "import scipy\n",
        "import time\n",
        "import math\n",
        "from lightfm.data import Dataset\n"
      ],
      "execution_count": 0,
      "outputs": []
    },
    {
      "cell_type": "markdown",
      "metadata": {
        "id": "TCBFVaSDmpYA",
        "colab_type": "text"
      },
      "source": [
        "reading dataframes\n"
      ]
    },
    {
      "cell_type": "code",
      "metadata": {
        "id": "93m_X48Kve8N",
        "colab_type": "code",
        "colab": {}
      },
      "source": [
        "# read in cleaned review data\n",
        "review_df = pd.read_csv('/content/drive/My Drive/Colab Notebooks/review_df.csv')"
      ],
      "execution_count": 0,
      "outputs": []
    },
    {
      "cell_type": "code",
      "metadata": {
        "id": "yt_sn0CWve8T",
        "colab_type": "code",
        "colab": {}
      },
      "source": [
        "business_df = pd.read_csv('/content/drive/My Drive/Colab Notebooks/business.csv',index_col=0)\n",
        "user_df = pd.read_csv('/content/drive/My Drive/Colab Notebooks/user1.csv',index_col=0)"
      ],
      "execution_count": 0,
      "outputs": []
    },
    {
      "cell_type": "markdown",
      "metadata": {
        "id": "j5w7AiTKm1gk",
        "colab_type": "text"
      },
      "source": [
        "Building dataset\n"
      ]
    },
    {
      "cell_type": "code",
      "metadata": {
        "id": "MnfPSLA2ve8m",
        "colab_type": "code",
        "colab": {}
      },
      "source": [
        "#model establishment\n",
        "dataset = Dataset()\n",
        "dataset.fit(review_df.user_id,review_df.business_id)\n",
        "type(dataset)\n",
        "num_users, num_items = dataset.interactions_shape()\n",
        "\n"
      ],
      "execution_count": 0,
      "outputs": []
    },
    {
      "cell_type": "markdown",
      "metadata": {
        "id": "SUZHilglm4yY",
        "colab_type": "text"
      },
      "source": [
        "Columns in business dataset"
      ]
    },
    {
      "cell_type": "code",
      "metadata": {
        "id": "TtRIpPTvgKdN",
        "colab_type": "code",
        "outputId": "1dff4e1e-ccdb-4449-cb7e-ed6d96eef274",
        "colab": {
          "base_uri": "https://localhost:8080/",
          "height": 312
        }
      },
      "source": [
        "business_df.columns"
      ],
      "execution_count": 7,
      "outputs": [
        {
          "output_type": "execute_result",
          "data": {
            "text/plain": [
              "Index(['business_id', 'name', 'address', 'city', 'state', 'postal_code',\n",
              "       'latitude', 'longitude', 'stars', 'review_count', 'category',\n",
              "       'Nightlife', 'Coffee & Tea', 'Bars', 'Fast Food', 'Sandwiches',\n",
              "       'Mexican', 'American (Traditional)', 'Pizza', 'Breakfast & Brunch',\n",
              "       'Specialty Food', 'Burgers', 'Italian', 'Chinese', 'American (New)',\n",
              "       'Desserts', 'Bakeries', 'Cafes', 'Grocery', 'Japanese',\n",
              "       'Event Planning & Services', 'Shopping', 'Ice Cream & Frozen Yogurt',\n",
              "       'Seafood', 'Sushi Bars', 'Asian Fusion', 'Juice Bars & Smoothies',\n",
              "       'Chicken Wings', 'Convenience Stores', 'Salad', 'Canadian (New)',\n",
              "       'Beer', 'Wine & Spirits', 'Caterers', 'Mediterranean', 'Barbeque',\n",
              "       'Arts & Entertainment', 'Thai', 'Delis', 'Sports Bars', 'Pubs',\n",
              "       'Indian', 'Middle Eastern', 'Korean', 'Vegetarian', 'Steakhouses',\n",
              "       'Diners', 'Vegan', 'Gas Stations', 'Cocktail Bars', 'Ethnic Food',\n",
              "       'Lounges', 'Vietnamese', 'Food Delivery Services', 'Automotive',\n",
              "       'Greek', 'Food Trucks', 'Health Markets', 'Wine Bars', 'Gluten-Free',\n",
              "       'Buffets', 'French'],\n",
              "      dtype='object')"
            ]
          },
          "metadata": {
            "tags": []
          },
          "execution_count": 7
        }
      ]
    },
    {
      "cell_type": "markdown",
      "metadata": {
        "id": "L8TMa4Btm8Oq",
        "colab_type": "text"
      },
      "source": [
        "Columns in user dataframe"
      ]
    },
    {
      "cell_type": "code",
      "metadata": {
        "id": "hls9YeOEggmq",
        "colab_type": "code",
        "outputId": "29c765b4-4b1b-4e94-caea-3fb097155714",
        "colab": {
          "base_uri": "https://localhost:8080/",
          "height": 121
        }
      },
      "source": [
        "user_df.columns"
      ],
      "execution_count": 0,
      "outputs": [
        {
          "output_type": "execute_result",
          "data": {
            "text/plain": [
              "Index(['average_stars', 'compliment_cool', 'compliment_cute',\n",
              "       'compliment_funny', 'compliment_hot', 'compliment_list',\n",
              "       'compliment_more', 'compliment_note', 'compliment_photos',\n",
              "       'compliment_plain', 'compliment_profile', 'compliment_writer', 'cool',\n",
              "       'funny', 'review_count', 'useful', 'is_elite', 'year', 'user_id'],\n",
              "      dtype='object')"
            ]
          },
          "metadata": {
            "tags": []
          },
          "execution_count": 28
        }
      ]
    },
    {
      "cell_type": "code",
      "metadata": {
        "id": "ighWSTh0kk-h",
        "colab_type": "code",
        "colab": {}
      },
      "source": [
        "user_df=user_df[['average_stars','compliment_cool', 'compliment_cute',\n",
        "       'compliment_funny', 'compliment_hot', 'compliment_list',\n",
        "       'compliment_more', 'compliment_note', 'compliment_photos',\n",
        "       'compliment_plain', 'compliment_profile', 'compliment_writer', 'cool',\n",
        "        'funny', 'review_count', 'useful','is_elite', 'year','user_id']]"
      ],
      "execution_count": 0,
      "outputs": []
    },
    {
      "cell_type": "markdown",
      "metadata": {
        "id": "7GYYZ8sEnBYt",
        "colab_type": "text"
      },
      "source": [
        "fit item and user features. \n"
      ]
    },
    {
      "cell_type": "code",
      "metadata": {
        "id": "ulnrt8C0ve8o",
        "colab_type": "code",
        "colab": {}
      },
      "source": [
        "dataset.fit_partial(items=business_df.business_id,\n",
        "                    item_features=['stars'])\n",
        "dataset.fit_partial(items=business_df.business_id,\n",
        "                    item_features=['review_count'])\n",
        "tar_cols = [x for x in business_df.columns[11:]]\n",
        "\n",
        "dataset.fit_partial(items = business_df.business_id,\n",
        "                   item_features = tar_cols)                                    \n",
        "                                                \n",
        "\n",
        "user_cols = [x for x in user_df[['compliment_cool', 'compliment_cute',\n",
        "       'compliment_funny', 'compliment_hot', 'compliment_list',\n",
        "       'compliment_more', 'compliment_note', 'compliment_photos',\n",
        "       'compliment_plain', 'compliment_profile', 'compliment_writer', \n",
        "         'review_count', 'useful','is_elite']]]\n",
        "dataset.fit_partial(users=user_df.user_id,\n",
        "                    user_features = user_cols)"
      ],
      "execution_count": 0,
      "outputs": []
    },
    {
      "cell_type": "markdown",
      "metadata": {
        "id": "Fov3MhVYnMVW",
        "colab_type": "text"
      },
      "source": [
        "read the test and train dataframes"
      ]
    },
    {
      "cell_type": "code",
      "metadata": {
        "id": "FKFXwE5Vv1Vz",
        "colab_type": "code",
        "colab": {}
      },
      "source": [
        "train1=pd.read_csv('/content/drive/My Drive/Colab Notebooks/df_train.csv')\n",
        "test1=pd.read_csv('/content/drive/My Drive/Colab Notebooks/df_test.csv')"
      ],
      "execution_count": 0,
      "outputs": []
    },
    {
      "cell_type": "markdown",
      "metadata": {
        "id": "LBpF-p_ynP0r",
        "colab_type": "text"
      },
      "source": [
        "build train interactions using train dataset"
      ]
    },
    {
      "cell_type": "code",
      "metadata": {
        "id": "UAqLZbqWwEyT",
        "colab_type": "code",
        "colab": {}
      },
      "source": [
        "(trainin, weights) = dataset.build_interactions([(x['user_id'],\n",
        "                                                       x['business_id'],\n",
        "                                                       x['rating']) for index,x in train1.iterrows()])"
      ],
      "execution_count": 0,
      "outputs": []
    },
    {
      "cell_type": "markdown",
      "metadata": {
        "id": "psnMOLP4nUIi",
        "colab_type": "text"
      },
      "source": [
        "build test interaction using test dataset"
      ]
    },
    {
      "cell_type": "code",
      "metadata": {
        "id": "7XCrN8vww4G9",
        "colab_type": "code",
        "colab": {}
      },
      "source": [
        "(testin, weights) = dataset.build_interactions([(x['user_id'],\n",
        "                                                       x['business_id'],\n",
        "                                                       x['rating']) for index,x in test1.iterrows()])"
      ],
      "execution_count": 0,
      "outputs": []
    },
    {
      "cell_type": "markdown",
      "metadata": {
        "id": "08jFoERcsQyf",
        "colab_type": "text"
      },
      "source": [
        "build item features"
      ]
    },
    {
      "cell_type": "code",
      "metadata": {
        "id": "Ntmt0lGH1dhs",
        "colab_type": "code",
        "colab": {
          "base_uri": "https://localhost:8080/",
          "height": 52
        },
        "outputId": "930f6554-2e99-4c4c-a82e-ef7dba7f5d42"
      },
      "source": [
        "# build item features\n",
        "\n",
        "def itemfeature(df,tar_cols,val_list):\n",
        "    rst = {}\n",
        "    for col in tar_cols:\n",
        "        rst[col] = df[col]\n",
        "    sum_val = sum(list(rst.values())) # get sum of all the tfidf values\n",
        "    \n",
        "    if(sum_val == 0):\n",
        "        return rst\n",
        "    else:\n",
        "        \n",
        "        w = (2-sum(val_list))/sum_val # weight for each tag to be able to sum to 1\n",
        "        for key,value in rst.items():\n",
        "            rst[key] = value * w\n",
        "    return rst\n",
        "\n",
        "# get max of each column to regularize value to [0,1]\n",
        "max_star = max(business_df.stars)\n",
        "max_b_rc = max(business_df.review_count)\n",
        "\n",
        "\n",
        "item_features = dataset.build_item_features(((x['business_id'], \n",
        "                                              {'stars':0.5*x['stars']/max_star,\n",
        "                                               'review_count':0.5*x['review_count']/max_b_rc,\n",
        "                                               **itemfeature(x,tar_cols,[0.5*x['stars']/max_star,\n",
        "                                                           0.5*x['review_count']/max_b_rc])})\n",
        "                                              for index,x in business_df.iterrows()))\n",
        "item_features"
      ],
      "execution_count": 12,
      "outputs": [
        {
          "output_type": "execute_result",
          "data": {
            "text/plain": [
              "<18379x18442 sparse matrix of type '<class 'numpy.float32'>'\n",
              "\twith 1176256 stored elements in Compressed Sparse Row format>"
            ]
          },
          "metadata": {
            "tags": []
          },
          "execution_count": 12
        }
      ]
    },
    {
      "cell_type": "markdown",
      "metadata": {
        "id": "ct9Gtbm8sWLT",
        "colab_type": "text"
      },
      "source": [
        "build user features"
      ]
    },
    {
      "cell_type": "code",
      "metadata": {
        "id": "22jY8Gpq1f0r",
        "colab_type": "code",
        "colab": {
          "base_uri": "https://localhost:8080/",
          "height": 52
        },
        "outputId": "64c9dcff-82f4-4baa-a16a-d22ccc34ad4a"
      },
      "source": [
        "#build user features\n",
        "\n",
        "def userfeature(df,tar_cols,val_list):\n",
        "    rst = {}\n",
        "    for col in tar_cols:\n",
        "        rst[col] = df[col]\n",
        "    sum_val = sum(list(rst.values())) # get sum of all the tfidf values\n",
        "    \n",
        "    if(sum_val == 0):\n",
        "        return rst\n",
        "    else:\n",
        "        w = (2-sum(val_list))/sum_val # weight for each tag to be able to sum to 1\n",
        "        for key,value in rst.items():\n",
        "            rst[key] = value * w\n",
        "    return rst\n",
        "\n",
        "\n",
        "max_u_rc = max(user_df.review_count)\n",
        "max_useful = max(user_df.useful)\n",
        "\n",
        "user_features = dataset.build_user_features(((x['user_id'],\n",
        "                                             {'review_count':0.35*x['review_count']/max_u_rc,'is_elite':0.35*int(x['is_elite']),\n",
        "                                              'useful':0.35*x['useful']/max_useful,\n",
        "                                             **userfeature(x,user_cols,[0.35*x['review_count']/max_u_rc,\n",
        "                                                                            0.35*int(x['is_elite']),\n",
        "                                                                            0.35*x['useful']/max_useful])})\n",
        "                                           for index, x in user_df.iterrows()))\n",
        "\n",
        "user_features"
      ],
      "execution_count": 13,
      "outputs": [
        {
          "output_type": "execute_result",
          "data": {
            "text/plain": [
              "<66968x66982 sparse matrix of type '<class 'numpy.float32'>'\n",
              "\twith 1004520 stored elements in Compressed Sparse Row format>"
            ]
          },
          "metadata": {
            "tags": []
          },
          "execution_count": 13
        }
      ]
    },
    {
      "cell_type": "code",
      "metadata": {
        "id": "8Ab5oHqR_3Ir",
        "colab_type": "code",
        "colab": {}
      },
      "source": [
        "k = 5 # for precision at k, 5-th positive example will be selected from the n positive examples sampled for every user"
      ],
      "execution_count": 0,
      "outputs": []
    },
    {
      "cell_type": "markdown",
      "metadata": {
        "id": "HfmjG9E6z0WO",
        "colab_type": "text"
      },
      "source": [
        "Running model without features"
      ]
    },
    {
      "cell_type": "code",
      "metadata": {
        "id": "TbtnHLGave9T",
        "colab_type": "code",
        "outputId": "fa1f07ac-91c6-43e3-fd4f-9f25e06aacc7",
        "colab": {
          "base_uri": "https://localhost:8080/",
          "height": 1000
        }
      },
      "source": [
        "NUM_COMPONENTS = [10,20,30]    \n",
        "NUM_EPOCHS = 25\n",
        "learning_rate=[0.05,0.01,0.005,0.001]\n",
        "# Let's fit a WARP model\n",
        "colors=['b', 'g', 'r', 'c', 'm', 'y',]\n",
        "prec = 0.0\n",
        "best_model = None\n",
        "best_learning_rate = 0.0\n",
        "best_NUM_COMPONENTS = 0.0\n",
        "auc1=[]\n",
        "for a,i in enumerate(NUM_COMPONENTS):\n",
        "  precision=[]\n",
        "  for j in learning_rate:\n",
        "    \n",
        "    auc=[]\n",
        "    model = LightFM(loss='warp',random_state=123,\n",
        "                  no_components=i,\n",
        "                  learning_rate=j)\n",
        "\n",
        "    #  time it.\n",
        "    #print(\"For learning rate %s num_component %s \" %i %j)\n",
        "    %time model = model.fit(trainin,epochs=NUM_EPOCHS)\n",
        "\n",
        "    # Compute and print the AUC score\n",
        "    #train_auc = auc_score(model, trainin).mean()\n",
        "    #print('Collaborative filtering train AUC: %s' % train_auc)\n",
        "\n",
        "\n",
        "\n",
        "    #test_auc = auc_score(model, testin).mean()\n",
        "    #print('Collaborative filtering test AUC: %s' % test_auc)\n",
        "\n",
        "\n",
        "    #print(\"Train precision: %.4f\" % precision_at_k(model, trainin, k=k).mean())\n",
        "    print('for no_comp ',i,'lr ',j)\n",
        "    print(\"Test precision: %.4f\" % precision_at_k(model, testin,train_interactions=trainin, k=k).mean())\n",
        "    print(\"Test AUC: %.4f\" % auc_score(model, testin).mean())\n",
        "    precision.append(precision_at_k(model, testin,train_interactions=trainin, k=k).mean())\n",
        "    if prec<precision_at_k(model, testin,train_interactions=trainin, k=k).mean():\n",
        "      prec=precision_at_k(model, testin,train_interactions=trainin, k=k).mean()\n",
        "      best_learning_rate=j\n",
        "      best_NUM_COMPONENTS=i\n",
        "      best_model=model\n",
        "    \n",
        "  plt.plot(learning_rate, precision,marker='o',color=colors[a],label='NUM_COMPONENTS'+str(i))\n",
        "plt.xlabel('learning rate')\n",
        "plt.ylabel('precision')\n",
        "plt.title('Parameter tuning')\n",
        "plt.grid(True)\n",
        "plt.legend()\n",
        "plt.show()\n",
        "print('\\nThe best model has {} NUM_COMPONENTS and learning_rate = {}'.format(best_NUM_COMPONENTS, best_learning_rate))\n"
      ],
      "execution_count": 15,
      "outputs": [
        {
          "output_type": "stream",
          "text": [
            "CPU times: user 24.3 s, sys: 7.78 ms, total: 24.3 s\n",
            "Wall time: 24.3 s\n",
            "for no_comp  10 lr  0.05\n",
            "Test precision: 0.0051\n",
            "Test AUC: 0.9236\n",
            "CPU times: user 24.3 s, sys: 22.9 ms, total: 24.3 s\n",
            "Wall time: 24.3 s\n",
            "for no_comp  10 lr  0.01\n",
            "Test precision: 0.0041\n",
            "Test AUC: 0.9041\n",
            "CPU times: user 21.1 s, sys: 17 ms, total: 21.1 s\n",
            "Wall time: 21.1 s\n",
            "for no_comp  10 lr  0.005\n",
            "Test precision: 0.0039\n",
            "Test AUC: 0.8827\n",
            "CPU times: user 19.6 s, sys: 18 ms, total: 19.6 s\n",
            "Wall time: 19.6 s\n",
            "for no_comp  10 lr  0.001\n",
            "Test precision: 0.0033\n",
            "Test AUC: 0.8500\n",
            "CPU times: user 34.2 s, sys: 15 ms, total: 34.2 s\n",
            "Wall time: 34.3 s\n",
            "for no_comp  20 lr  0.05\n",
            "Test precision: 0.0057\n",
            "Test AUC: 0.9267\n",
            "CPU times: user 34.1 s, sys: 15 ms, total: 34.1 s\n",
            "Wall time: 34.1 s\n",
            "for no_comp  20 lr  0.01\n",
            "Test precision: 0.0044\n",
            "Test AUC: 0.9131\n",
            "CPU times: user 31.9 s, sys: 13 ms, total: 32 s\n",
            "Wall time: 32 s\n",
            "for no_comp  20 lr  0.005\n",
            "Test precision: 0.0040\n",
            "Test AUC: 0.9044\n",
            "CPU times: user 29 s, sys: 16 ms, total: 29 s\n",
            "Wall time: 29 s\n",
            "for no_comp  20 lr  0.001\n",
            "Test precision: 0.0033\n",
            "Test AUC: 0.8508\n",
            "CPU times: user 43.6 s, sys: 12 ms, total: 43.6 s\n",
            "Wall time: 43.6 s\n",
            "for no_comp  30 lr  0.05\n",
            "Test precision: 0.0059\n",
            "Test AUC: 0.9256\n",
            "CPU times: user 43.5 s, sys: 8.99 ms, total: 43.6 s\n",
            "Wall time: 43.6 s\n",
            "for no_comp  30 lr  0.01\n",
            "Test precision: 0.0045\n",
            "Test AUC: 0.9147\n",
            "CPU times: user 42.3 s, sys: 6 ms, total: 42.3 s\n",
            "Wall time: 42.3 s\n",
            "for no_comp  30 lr  0.005\n",
            "Test precision: 0.0040\n",
            "Test AUC: 0.9075\n",
            "CPU times: user 39.1 s, sys: 9 ms, total: 39.1 s\n",
            "Wall time: 39.1 s\n",
            "for no_comp  30 lr  0.001\n",
            "Test precision: 0.0033\n",
            "Test AUC: 0.8542\n"
          ],
          "name": "stdout"
        },
        {
          "output_type": "display_data",
          "data": {
            "image/png": "[encoded data removed]",
            "text/plain": [
              "<Figure size 432x288 with 1 Axes>"
            ]
          },
          "metadata": {
            "tags": []
          }
        },
        {
          "output_type": "stream",
          "text": [
            "\n",
            "The best model has 30 NUM_COMPONENTS and learning_rate = 0.05\n"
          ],
          "name": "stdout"
        }
      ]
    },
    {
      "cell_type": "code",
      "metadata": {
        "colab_type": "code",
        "id": "_03fKZ7hZBAI",
        "colab": {}
      },
      "source": [
        "model = LightFM(loss='warp',random_state=123,\n",
        "              no_components=30,\n",
        "              learning_rate=0.05)\n",
        "model = model.fit(trainin,epochs=25)\n"
      ],
      "execution_count": 0,
      "outputs": []
    },
    {
      "cell_type": "code",
      "metadata": {
        "colab_type": "code",
        "id": "OQROyRuMY_uP",
        "colab": {}
      },
      "source": [
        "a=model.predict(testin.row,testin.col)"
      ],
      "execution_count": 0,
      "outputs": []
    },
    {
      "cell_type": "markdown",
      "metadata": {
        "id": "rJOn649vz7Dp",
        "colab_type": "text"
      },
      "source": [
        "Recommendation score for each user in the test data was predicted "
      ]
    },
    {
      "cell_type": "code",
      "metadata": {
        "id": "ICqZYCUOn0d6",
        "colab_type": "code",
        "colab": {
          "base_uri": "https://localhost:8080/",
          "height": 69
        },
        "outputId": "65cc2536-7c69-4c18-f5a1-d10fbc70e500"
      },
      "source": [
        "(testin.row,a)"
      ],
      "execution_count": 18,
      "outputs": [
        {
          "output_type": "execute_result",
          "data": {
            "text/plain": [
              "(array([    0,     1,     2, ..., 66965, 66966, 66967], dtype=int32),\n",
              " array([-0.23978022, -0.81041664,  2.21139407, ...,  2.32031608,\n",
              "        -0.09479146,  2.30020213]))"
            ]
          },
          "metadata": {
            "tags": []
          },
          "execution_count": 18
        }
      ]
    },
    {
      "cell_type": "markdown",
      "metadata": {
        "id": "T9Xc8s9Z0KZg",
        "colab_type": "text"
      },
      "source": [
        "Running model with user item features"
      ]
    },
    {
      "cell_type": "code",
      "metadata": {
        "id": "gcjiTiGUr4nM",
        "colab_type": "code",
        "outputId": "5c1b90b7-f495-4bf0-ddd4-86d70654f902",
        "colab": {
          "base_uri": "https://localhost:8080/",
          "height": 954
        }
      },
      "source": [
        "NUM_COMPONENTS = [10,20,30]    \n",
        "NUM_EPOCHS = 25\n",
        "learning_rate=[0.05,0.01,0.005]\n",
        "# Let's fit a WARP model\n",
        "colors=['b', 'g', 'r', 'c', 'm', 'y']\n",
        "prec = 0\n",
        "best_model = None\n",
        "best_learning_rate = 0\n",
        "best_NUM_COMPONENTS = 0\n",
        "for a,i in enumerate(NUM_COMPONENTS):\n",
        "  precision=[]\n",
        "  for j in learning_rate:\n",
        "\n",
        "    model.iii = LightFM(loss='warp',\n",
        "                  random_state=123,\n",
        "                no_components=i,learning_rate=j)\n",
        "\n",
        "  #time it.\n",
        "    #print(\"For learning rate \",i)\n",
        "    %time model.iii = model.iii.fit(trainin,user_features=user_features,item_features=item_features,epochs=NUM_EPOCHS)\n",
        "    pred=precision_at_k(model.iii, trainin,item_features=item_features,user_features=user_features, k=k).mean()\n",
        "    precision.append(pred)\n",
        "    print('for no_comp ',i,'lr ',j)\n",
        "    print(\"Test precision: %.4f\" % pred)\n",
        "    #print(\"Test AUC: %.4f\" % auc_score(model.iii, testin,user_features=user_features,item_features=item_features).mean())\n",
        "    if prec<pred:\n",
        "      prec=pred\n",
        "      best_learning_rate=j\n",
        "      best_NUM_COMPONENTS=i\n",
        "      best_model=model.iii\n",
        "    \n",
        "  plt.plot(learning_rate, precision,marker='o',color=colors[a],label='NUM_COMPONENTS'+str(i))\n",
        "plt.xlabel('learning rate')\n",
        "plt.ylabel('precision')\n",
        "plt.title('Parameter tuning for dataset with features')\n",
        "plt.grid(True)\n",
        "plt.legend()\n",
        "plt.show()\n",
        "print('\\nThe best model has {} NUM_COMPONENTS and learning_rate = {}'.format(best_NUM_COMPONENTS, best_learning_rate))\n",
        "\n",
        "\n",
        "\n",
        "  # Compute and print the AUC score\n",
        "  #train_auc = auc_score(model.iii, trainin,user_features=user_features,item_features=item_features).mean()\n",
        "  #print('Hybrid train AUC: %s' % train_auc)\n",
        "\n",
        "  #test_auc = auc_score(model.iii, testin,user_features=user_features,item_features=item_features).mean()\n",
        "  #print('Hybrid test AUC: %s' % test_auc)\n",
        "\n",
        "  #precision @k\n",
        "  #print(\"Train precision: %.4f\" % precision_at_k(model.iii, trainin,\n",
        "                                                #item_features=item_features,user_features=user_features, k=k).mean())\n",
        "  #print(\"Test precision: %.4f\" % precision_at_k(model.iii, testin,train_interactions=trainin,\n",
        "                                                #item_features=item_features,user_features=user_features, k=k).mean())\n"
      ],
      "execution_count": 19,
      "outputs": [
        {
          "output_type": "stream",
          "text": [
            "CPU times: user 4min 45s, sys: 25.3 ms, total: 4min 45s\n",
            "Wall time: 4min 45s\n",
            "for no_comp  10 lr  0.05\n",
            "Test precision: 0.0427\n",
            "CPU times: user 4min 46s, sys: 22 ms, total: 4min 46s\n",
            "Wall time: 4min 46s\n",
            "for no_comp  10 lr  0.01\n",
            "Test precision: 0.0362\n",
            "CPU times: user 4min 44s, sys: 11 ms, total: 4min 44s\n",
            "Wall time: 4min 44s\n",
            "for no_comp  10 lr  0.005\n",
            "Test precision: 0.0361\n",
            "CPU times: user 8min 40s, sys: 32 ms, total: 8min 40s\n",
            "Wall time: 8min 41s\n",
            "for no_comp  20 lr  0.05\n",
            "Test precision: 0.0521\n",
            "CPU times: user 9min 2s, sys: 23 ms, total: 9min 2s\n",
            "Wall time: 9min 2s\n",
            "for no_comp  20 lr  0.01\n",
            "Test precision: 0.0361\n",
            "CPU times: user 8min 57s, sys: 29 ms, total: 8min 57s\n",
            "Wall time: 8min 57s\n",
            "for no_comp  20 lr  0.005\n",
            "Test precision: 0.0361\n",
            "CPU times: user 12min 51s, sys: 50 ms, total: 12min 51s\n",
            "Wall time: 12min 51s\n",
            "for no_comp  30 lr  0.05\n",
            "Test precision: 0.0548\n",
            "CPU times: user 14min 40s, sys: 55 ms, total: 14min 40s\n",
            "Wall time: 14min 40s\n",
            "for no_comp  30 lr  0.01\n",
            "Test precision: 0.0356\n",
            "CPU times: user 14min 44s, sys: 44 ms, total: 14min 44s\n",
            "Wall time: 14min 44s\n",
            "for no_comp  30 lr  0.005\n",
            "Test precision: 0.0361\n"
          ],
          "name": "stdout"
        },
        {
          "output_type": "display_data",
          "data": {
            "image/png": "[encoded data removed]",
            "text/plain": [
              "<Figure size 432x288 with 1 Axes>"
            ]
          },
          "metadata": {
            "tags": []
          }
        },
        {
          "output_type": "stream",
          "text": [
            "\n",
            "The best model has 30 NUM_COMPONENTS and learning_rate = 0.05\n"
          ],
          "name": "stdout"
        }
      ]
    },
    {
      "cell_type": "markdown",
      "metadata": {
        "id": "r5lO_FxW0Hyp",
        "colab_type": "text"
      },
      "source": [
        "Recommendation score for each user in the test data was predicted"
      ]
    },
    {
      "cell_type": "code",
      "metadata": {
        "id": "QG6LOEN9wh7q",
        "colab_type": "code",
        "colab": {
          "base_uri": "https://localhost:8080/",
          "height": 69
        },
        "outputId": "f0511165-2357-4690-8a21-998a01f8feea"
      },
      "source": [
        "a=best_model.predict(testin.row,testin.col)\n",
        "(testin.row,a)"
      ],
      "execution_count": 25,
      "outputs": [
        {
          "output_type": "execute_result",
          "data": {
            "text/plain": [
              "(array([    0,     1,     2, ..., 66965, 66966, 66967], dtype=int32),\n",
              " array([-1.34378839,  1.86549497, -0.46021515, ...,  2.09294581,\n",
              "        -0.52674299,  0.36686608]))"
            ]
          },
          "metadata": {
            "tags": []
          },
          "execution_count": 25
        }
      ]
    },
    {
      "cell_type": "code",
      "metadata": {
        "id": "ZXYOzP1fwbTu",
        "colab_type": "code",
        "colab": {
          "base_uri": "https://localhost:8080/",
          "height": 35
        },
        "outputId": "bcdd7607-c720-4ee4-fb08-5399f3fc5e67"
      },
      "source": [
        "auc_score(best_model, testin,user_features=user_features,item_features=item_features).mean()"
      ],
      "execution_count": 26,
      "outputs": [
        {
          "output_type": "execute_result",
          "data": {
            "text/plain": [
              "0.88881236"
            ]
          },
          "metadata": {
            "tags": []
          },
          "execution_count": 26
        }
      ]
    },
    {
      "cell_type": "code",
      "metadata": {
        "id": "xZ80oT7fxu3r",
        "colab_type": "code",
        "colab": {}
      },
      "source": [
        ""
      ],
      "execution_count": 0,
      "outputs": []
    }
  ]
}
