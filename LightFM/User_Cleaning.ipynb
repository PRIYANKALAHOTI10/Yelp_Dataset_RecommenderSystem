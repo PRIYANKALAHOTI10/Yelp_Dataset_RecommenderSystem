{
 "cells": [
  {
   "cell_type": "code",
   "execution_count": 1,
   "metadata": {
    "colab": {
     "base_uri": "https://localhost:8080/",
     "height": 124
    },
    "colab_type": "code",
    "executionInfo": {
     "elapsed": 24294,
     "status": "ok",
     "timestamp": 1576272184095,
     "user": {
      "displayName": "Tanvi Gautam Gautam Pareek",
      "photoUrl": "",
      "userId": "02734580879175804847"
     },
     "user_tz": 300
    },
    "id": "aOTHZw2EJFgW",
    "outputId": "c09f5e9b-36bc-4e5a-adc2-6b73dbc617c5"
   },
   "outputs": [
    {
     "name": "stdout",
     "output_type": "stream",
     "text": [
      "Go to this URL in a browser: https://accounts.google.com/o/oauth2/auth?client_id=947318989803-6bn6qk8qdgf4n4g3pfee6491hc0brc4i.apps.googleusercontent.com&redirect_uri=urn%3aietf%3awg%3aoauth%3a2.0%3aoob&response_type=code&scope=email%20https%3a%2f%2fwww.googleapis.com%2fauth%2fdocs.test%20https%3a%2f%2fwww.googleapis.com%2fauth%2fdrive%20https%3a%2f%2fwww.googleapis.com%2fauth%2fdrive.photos.readonly%20https%3a%2f%2fwww.googleapis.com%2fauth%2fpeopleapi.readonly\n",
      "\n",
      "Enter your authorization code:\n",
      "··········\n",
      "Mounted at /content/drive\n"
     ]
    }
   ],
   "source": [
    "from google.colab import drive\n",
    "drive.mount('/content/drive')"
   ]
  },
  {
   "cell_type": "code",
   "execution_count": 0,
   "metadata": {
    "colab": {},
    "colab_type": "code",
    "id": "6p4tQIDNJBam"
   },
   "outputs": [],
   "source": [
    "## packages\n",
    "import numpy as np\n",
    "import pandas as pd\n",
    "import matplotlib.pyplot as plt"
   ]
  },
  {
   "cell_type": "code",
   "execution_count": 5,
   "metadata": {
    "colab": {
     "base_uri": "https://localhost:8080/",
     "height": 361
    },
    "colab_type": "code",
    "executionInfo": {
     "elapsed": 29664,
     "status": "ok",
     "timestamp": 1576272284153,
     "user": {
      "displayName": "Tanvi Gautam Gautam Pareek",
      "photoUrl": "",
      "userId": "02734580879175804847"
     },
     "user_tz": 300
    },
    "id": "MQ0m1cWOJBbM",
    "outputId": "56582a07-e8c4-420d-8c8a-7c8532d0b1dc"
   },
   "outputs": [
    {
     "name": "stderr",
     "output_type": "stream",
     "text": [
      "/usr/local/lib/python3.6/dist-packages/IPython/core/interactiveshell.py:2718: DtypeWarning: Columns (14) have mixed types. Specify dtype option on import or set low_memory=False.\n",
      "  interactivity=interactivity, compiler=compiler, result=result)\n"
     ]
    },
    {
     "data": {
      "text/html": [
       "<div>\n",
       "<style scoped>\n",
       "    .dataframe tbody tr th:only-of-type {\n",
       "        vertical-align: middle;\n",
       "    }\n",
       "\n",
       "    .dataframe tbody tr th {\n",
       "        vertical-align: top;\n",
       "    }\n",
       "\n",
       "    .dataframe thead th {\n",
       "        text-align: right;\n",
       "    }\n",
       "</style>\n",
       "<table border=\"1\" class=\"dataframe\">\n",
       "  <thead>\n",
       "    <tr style=\"text-align: right;\">\n",
       "      <th></th>\n",
       "      <th>Unnamed: 0</th>\n",
       "      <th>average_stars</th>\n",
       "      <th>compliment_cool</th>\n",
       "      <th>compliment_cute</th>\n",
       "      <th>compliment_funny</th>\n",
       "      <th>compliment_hot</th>\n",
       "      <th>compliment_list</th>\n",
       "      <th>compliment_more</th>\n",
       "      <th>compliment_note</th>\n",
       "      <th>compliment_photos</th>\n",
       "      <th>compliment_plain</th>\n",
       "      <th>compliment_profile</th>\n",
       "      <th>compliment_writer</th>\n",
       "      <th>cool</th>\n",
       "      <th>elite</th>\n",
       "      <th>fans</th>\n",
       "      <th>friends</th>\n",
       "      <th>funny</th>\n",
       "      <th>name</th>\n",
       "      <th>review_count</th>\n",
       "      <th>useful</th>\n",
       "      <th>user_id</th>\n",
       "      <th>yelping_since</th>\n",
       "    </tr>\n",
       "  </thead>\n",
       "  <tbody>\n",
       "    <tr>\n",
       "      <th>0</th>\n",
       "      <td>0</td>\n",
       "      <td>4.03</td>\n",
       "      <td>1</td>\n",
       "      <td>0</td>\n",
       "      <td>1</td>\n",
       "      <td>2</td>\n",
       "      <td>0</td>\n",
       "      <td>0</td>\n",
       "      <td>1</td>\n",
       "      <td>0</td>\n",
       "      <td>1</td>\n",
       "      <td>0</td>\n",
       "      <td>2</td>\n",
       "      <td>25</td>\n",
       "      <td>2015,2016,2017</td>\n",
       "      <td>5</td>\n",
       "      <td>c78V-rj8NQcQjOI8KP3UEA, alRMgPcngYSCJ5naFRBz5g...</td>\n",
       "      <td>17</td>\n",
       "      <td>Rashmi</td>\n",
       "      <td>95</td>\n",
       "      <td>84</td>\n",
       "      <td>l6BmjZMeQD3rDxWUbiAiow</td>\n",
       "      <td>2013-10-08 23:11:33</td>\n",
       "    </tr>\n",
       "    <tr>\n",
       "      <th>1</th>\n",
       "      <td>1</td>\n",
       "      <td>3.63</td>\n",
       "      <td>1</td>\n",
       "      <td>0</td>\n",
       "      <td>1</td>\n",
       "      <td>1</td>\n",
       "      <td>0</td>\n",
       "      <td>0</td>\n",
       "      <td>0</td>\n",
       "      <td>0</td>\n",
       "      <td>0</td>\n",
       "      <td>0</td>\n",
       "      <td>0</td>\n",
       "      <td>16</td>\n",
       "      <td>NaN</td>\n",
       "      <td>4</td>\n",
       "      <td>kEBTgDvFX754S68FllfCaA, aB2DynOxNOJK9st2ZeGTPg...</td>\n",
       "      <td>22</td>\n",
       "      <td>Jenna</td>\n",
       "      <td>33</td>\n",
       "      <td>48</td>\n",
       "      <td>4XChL029mKr5hydo79Ljxg</td>\n",
       "      <td>2013-02-21 22:29:06</td>\n",
       "    </tr>\n",
       "    <tr>\n",
       "      <th>2</th>\n",
       "      <td>2</td>\n",
       "      <td>3.71</td>\n",
       "      <td>0</td>\n",
       "      <td>0</td>\n",
       "      <td>0</td>\n",
       "      <td>0</td>\n",
       "      <td>0</td>\n",
       "      <td>0</td>\n",
       "      <td>1</td>\n",
       "      <td>0</td>\n",
       "      <td>0</td>\n",
       "      <td>0</td>\n",
       "      <td>0</td>\n",
       "      <td>10</td>\n",
       "      <td>NaN</td>\n",
       "      <td>0</td>\n",
       "      <td>4N-HU_T32hLENLntsNKNBg, pSY2vwWLgWfGVAAiKQzMng...</td>\n",
       "      <td>8</td>\n",
       "      <td>David</td>\n",
       "      <td>16</td>\n",
       "      <td>28</td>\n",
       "      <td>bc8C_eETBWL0olvFSJJd0w</td>\n",
       "      <td>2013-10-04 00:16:10</td>\n",
       "    </tr>\n",
       "    <tr>\n",
       "      <th>3</th>\n",
       "      <td>3</td>\n",
       "      <td>4.85</td>\n",
       "      <td>0</td>\n",
       "      <td>0</td>\n",
       "      <td>0</td>\n",
       "      <td>1</td>\n",
       "      <td>0</td>\n",
       "      <td>0</td>\n",
       "      <td>0</td>\n",
       "      <td>0</td>\n",
       "      <td>2</td>\n",
       "      <td>0</td>\n",
       "      <td>1</td>\n",
       "      <td>14</td>\n",
       "      <td>NaN</td>\n",
       "      <td>5</td>\n",
       "      <td>RZ6wS38wnlXyj-OOdTzBxA, l5jxZh1KsgI8rMunm-GN6A...</td>\n",
       "      <td>4</td>\n",
       "      <td>Angela</td>\n",
       "      <td>17</td>\n",
       "      <td>30</td>\n",
       "      <td>dD0gZpBctWGdWo9WlGuhlA</td>\n",
       "      <td>2014-05-22 15:57:30</td>\n",
       "    </tr>\n",
       "    <tr>\n",
       "      <th>4</th>\n",
       "      <td>4</td>\n",
       "      <td>4.08</td>\n",
       "      <td>80</td>\n",
       "      <td>0</td>\n",
       "      <td>80</td>\n",
       "      <td>28</td>\n",
       "      <td>1</td>\n",
       "      <td>1</td>\n",
       "      <td>16</td>\n",
       "      <td>5</td>\n",
       "      <td>57</td>\n",
       "      <td>0</td>\n",
       "      <td>25</td>\n",
       "      <td>665</td>\n",
       "      <td>2015,2016,2017,2018</td>\n",
       "      <td>39</td>\n",
       "      <td>mbwrZ-RS76V1HoJ0bF_Geg, g64lOV39xSLRZO0aQQ6DeQ...</td>\n",
       "      <td>279</td>\n",
       "      <td>Nancy</td>\n",
       "      <td>361</td>\n",
       "      <td>1114</td>\n",
       "      <td>MM4RJAeH6yuaN8oZDSt0RA</td>\n",
       "      <td>2013-10-23 07:02:50</td>\n",
       "    </tr>\n",
       "  </tbody>\n",
       "</table>\n",
       "</div>"
      ],
      "text/plain": [
       "   Unnamed: 0  average_stars  ...                 user_id        yelping_since\n",
       "0           0           4.03  ...  l6BmjZMeQD3rDxWUbiAiow  2013-10-08 23:11:33\n",
       "1           1           3.63  ...  4XChL029mKr5hydo79Ljxg  2013-02-21 22:29:06\n",
       "2           2           3.71  ...  bc8C_eETBWL0olvFSJJd0w  2013-10-04 00:16:10\n",
       "3           3           4.85  ...  dD0gZpBctWGdWo9WlGuhlA  2014-05-22 15:57:30\n",
       "4           4           4.08  ...  MM4RJAeH6yuaN8oZDSt0RA  2013-10-23 07:02:50\n",
       "\n",
       "[5 rows x 23 columns]"
      ]
     },
     "execution_count": 5,
     "metadata": {
      "tags": []
     },
     "output_type": "execute_result"
    }
   ],
   "source": [
    "user_df=pd.read_csv(\"/content/drive/My Drive/Colab Notebooks/user.csv\")\n",
    "user_df = pd.DataFrame(user_df)\n",
    "user_df.head()"
   ]
  },
  {
   "cell_type": "code",
   "execution_count": 6,
   "metadata": {
    "colab": {
     "base_uri": "https://localhost:8080/",
     "height": 35
    },
    "colab_type": "code",
    "executionInfo": {
     "elapsed": 1005,
     "status": "ok",
     "timestamp": 1576272324086,
     "user": {
      "displayName": "Tanvi Gautam Gautam Pareek",
      "photoUrl": "",
      "userId": "02734580879175804847"
     },
     "user_tz": 300
    },
    "id": "WmISbrpUJBbc",
    "outputId": "10ba121f-770b-455b-8993-da72c4dddd4d"
   },
   "outputs": [
    {
     "data": {
      "text/plain": [
       "1637138"
      ]
     },
     "execution_count": 6,
     "metadata": {
      "tags": []
     },
     "output_type": "execute_result"
    }
   ],
   "source": [
    "len(user_df)"
   ]
  },
  {
   "cell_type": "code",
   "execution_count": 8,
   "metadata": {
    "colab": {
     "base_uri": "https://localhost:8080/",
     "height": 586
    },
    "colab_type": "code",
    "executionInfo": {
     "elapsed": 14810,
     "status": "ok",
     "timestamp": 1576272462107,
     "user": {
      "displayName": "Tanvi Gautam Gautam Pareek",
      "photoUrl": "",
      "userId": "02734580879175804847"
     },
     "user_tz": 300
    },
    "id": "RuuKF1QxJBb1",
    "outputId": "fc743583-c989-45e8-b8f8-64904aa02bca"
   },
   "outputs": [
    {
     "data": {
      "text/html": [
       "<div>\n",
       "<style scoped>\n",
       "    .dataframe tbody tr th:only-of-type {\n",
       "        vertical-align: middle;\n",
       "    }\n",
       "\n",
       "    .dataframe tbody tr th {\n",
       "        vertical-align: top;\n",
       "    }\n",
       "\n",
       "    .dataframe thead th {\n",
       "        text-align: right;\n",
       "    }\n",
       "</style>\n",
       "<table border=\"1\" class=\"dataframe\">\n",
       "  <thead>\n",
       "    <tr style=\"text-align: right;\">\n",
       "      <th></th>\n",
       "      <th>user_id</th>\n",
       "      <th>business_id</th>\n",
       "      <th>review_id</th>\n",
       "      <th>rating</th>\n",
       "      <th>date</th>\n",
       "      <th>useful</th>\n",
       "      <th>funny</th>\n",
       "      <th>cool</th>\n",
       "      <th>text</th>\n",
       "      <th>year</th>\n",
       "    </tr>\n",
       "  </thead>\n",
       "  <tbody>\n",
       "    <tr>\n",
       "      <th>0</th>\n",
       "      <td>hG7b0MtEbXx5QzbzE6C_VA</td>\n",
       "      <td>Y07qIurPKiUJDnTZWxZN2A</td>\n",
       "      <td>HeTRGukwBk1TPoX0dr4xZA</td>\n",
       "      <td>5.0</td>\n",
       "      <td>2012-08-28 23:34:11</td>\n",
       "      <td>0.0</td>\n",
       "      <td>0.0</td>\n",
       "      <td>0.0</td>\n",
       "      <td>Not a huge selection but what they do have is ...</td>\n",
       "      <td>2012</td>\n",
       "    </tr>\n",
       "    <tr>\n",
       "      <th>1</th>\n",
       "      <td>hG7b0MtEbXx5QzbzE6C_VA</td>\n",
       "      <td>eSLwC2iFJOU4UWXyuPiTpg</td>\n",
       "      <td>C_25_cKO3JXflunMIwBHdA</td>\n",
       "      <td>1.0</td>\n",
       "      <td>2008-08-23 20:07:25</td>\n",
       "      <td>0.0</td>\n",
       "      <td>0.0</td>\n",
       "      <td>0.0</td>\n",
       "      <td>If you are a grown man, you will leave hungry ...</td>\n",
       "      <td>2008</td>\n",
       "    </tr>\n",
       "    <tr>\n",
       "      <th>2</th>\n",
       "      <td>hG7b0MtEbXx5QzbzE6C_VA</td>\n",
       "      <td>foPp-aKIZsWcsYf5zuhcNw</td>\n",
       "      <td>OJlgpJcV0At_Almwmlf3ow</td>\n",
       "      <td>1.0</td>\n",
       "      <td>2016-08-11 03:38:43</td>\n",
       "      <td>3.0</td>\n",
       "      <td>1.0</td>\n",
       "      <td>0.0</td>\n",
       "      <td>Usually out of at least 20% of the items I nee...</td>\n",
       "      <td>2016</td>\n",
       "    </tr>\n",
       "    <tr>\n",
       "      <th>3</th>\n",
       "      <td>hG7b0MtEbXx5QzbzE6C_VA</td>\n",
       "      <td>0giQuOv-hLFlVuwgw_VG9A</td>\n",
       "      <td>tDpkjj18ZnumFUa91M34eA</td>\n",
       "      <td>2.0</td>\n",
       "      <td>2014-12-11 03:51:29</td>\n",
       "      <td>0.0</td>\n",
       "      <td>2.0</td>\n",
       "      <td>0.0</td>\n",
       "      <td>FE has gone from being a food store to a quasi...</td>\n",
       "      <td>2014</td>\n",
       "    </tr>\n",
       "    <tr>\n",
       "      <th>4</th>\n",
       "      <td>jlu4CztcSxrKx56ba1a5AQ</td>\n",
       "      <td>uF86ZhygpBEGr3CudNemYA</td>\n",
       "      <td>PEkYyTrqRjXN5mOFBn5fzw</td>\n",
       "      <td>4.0</td>\n",
       "      <td>2015-11-06 13:39:39</td>\n",
       "      <td>11.0</td>\n",
       "      <td>4.0</td>\n",
       "      <td>10.0</td>\n",
       "      <td>O'Noir was an awesome dining experience. I hav...</td>\n",
       "      <td>2015</td>\n",
       "    </tr>\n",
       "  </tbody>\n",
       "</table>\n",
       "</div>"
      ],
      "text/plain": [
       "                  user_id  ...  year\n",
       "0  hG7b0MtEbXx5QzbzE6C_VA  ...  2012\n",
       "1  hG7b0MtEbXx5QzbzE6C_VA  ...  2008\n",
       "2  hG7b0MtEbXx5QzbzE6C_VA  ...  2016\n",
       "3  hG7b0MtEbXx5QzbzE6C_VA  ...  2014\n",
       "4  jlu4CztcSxrKx56ba1a5AQ  ...  2015\n",
       "\n",
       "[5 rows x 10 columns]"
      ]
     },
     "execution_count": 8,
     "metadata": {
      "tags": []
     },
     "output_type": "execute_result"
    }
   ],
   "source": [
    "# read in data\n",
    "review_df = pd.read_csv('/content/drive/My Drive/Colab Notebooks/ratings1.csv',index_col = 0)\n",
    "review_df.head()"
   ]
  },
  {
   "cell_type": "code",
   "execution_count": 9,
   "metadata": {
    "colab": {
     "base_uri": "https://localhost:8080/",
     "height": 35
    },
    "colab_type": "code",
    "executionInfo": {
     "elapsed": 866,
     "status": "ok",
     "timestamp": 1576272475541,
     "user": {
      "displayName": "Tanvi Gautam Gautam Pareek",
      "photoUrl": "",
      "userId": "02734580879175804847"
     },
     "user_tz": 300
    },
    "id": "ulABQe86JBcA",
    "outputId": "8f79230c-589c-43d1-90fe-ac40571f46e7"
   },
   "outputs": [
    {
     "data": {
      "text/plain": [
       "(1637138, 23)"
      ]
     },
     "execution_count": 9,
     "metadata": {
      "tags": []
     },
     "output_type": "execute_result"
    }
   ],
   "source": [
    "user_df.shape"
   ]
  },
  {
   "cell_type": "code",
   "execution_count": 10,
   "metadata": {
    "colab": {
     "base_uri": "https://localhost:8080/",
     "height": 35
    },
    "colab_type": "code",
    "executionInfo": {
     "elapsed": 1200,
     "status": "ok",
     "timestamp": 1576272482042,
     "user": {
      "displayName": "Tanvi Gautam Gautam Pareek",
      "photoUrl": "",
      "userId": "02734580879175804847"
     },
     "user_tz": 300
    },
    "id": "SPgJHo3WJBcL",
    "outputId": "e3e24c8a-4f37-4826-830a-875c1c3bcd94"
   },
   "outputs": [
    {
     "data": {
      "text/plain": [
       "66968"
      ]
     },
     "execution_count": 10,
     "metadata": {
      "tags": []
     },
     "output_type": "execute_result"
    }
   ],
   "source": [
    "len(review_df.user_id.unique())"
   ]
  },
  {
   "cell_type": "code",
   "execution_count": 0,
   "metadata": {
    "colab": {},
    "colab_type": "code",
    "id": "f2IfIYrpJBcP"
   },
   "outputs": [],
   "source": [
    "unique_users = review_df.user_id.unique()\n",
    "user_idx = [i for i in range(user_df.shape[0]) if user_df.user_id[i] in unique_users]"
   ]
  },
  {
   "cell_type": "code",
   "execution_count": 13,
   "metadata": {
    "colab": {
     "base_uri": "https://localhost:8080/",
     "height": 35
    },
    "colab_type": "code",
    "executionInfo": {
     "elapsed": 1142,
     "status": "ok",
     "timestamp": 1576275315849,
     "user": {
      "displayName": "Tanvi Gautam Gautam Pareek",
      "photoUrl": "",
      "userId": "02734580879175804847"
     },
     "user_tz": 300
    },
    "id": "YA3JsHLAJBcT",
    "outputId": "f364d135-26cf-4b44-bd7d-286253fd5965"
   },
   "outputs": [
    {
     "data": {
      "text/plain": [
       "(66968, 23)"
      ]
     },
     "execution_count": 13,
     "metadata": {
      "tags": []
     },
     "output_type": "execute_result"
    }
   ],
   "source": [
    "user_df = user_df.iloc[user_idx,:]\n",
    "user_df.shape"
   ]
  },
  {
   "cell_type": "code",
   "execution_count": 14,
   "metadata": {
    "colab": {
     "base_uri": "https://localhost:8080/",
     "height": 326
    },
    "colab_type": "code",
    "executionInfo": {
     "elapsed": 514,
     "status": "ok",
     "timestamp": 1576275318280,
     "user": {
      "displayName": "Tanvi Gautam Gautam Pareek",
      "photoUrl": "",
      "userId": "02734580879175804847"
     },
     "user_tz": 300
    },
    "id": "cSdxXizMJBcW",
    "outputId": "97c61357-d079-4a20-a52e-468ce5a331d6"
   },
   "outputs": [
    {
     "data": {
      "text/html": [
       "<div>\n",
       "<style scoped>\n",
       "    .dataframe tbody tr th:only-of-type {\n",
       "        vertical-align: middle;\n",
       "    }\n",
       "\n",
       "    .dataframe tbody tr th {\n",
       "        vertical-align: top;\n",
       "    }\n",
       "\n",
       "    .dataframe thead th {\n",
       "        text-align: right;\n",
       "    }\n",
       "</style>\n",
       "<table border=\"1\" class=\"dataframe\">\n",
       "  <thead>\n",
       "    <tr style=\"text-align: right;\">\n",
       "      <th></th>\n",
       "      <th>Unnamed: 0</th>\n",
       "      <th>average_stars</th>\n",
       "      <th>compliment_cool</th>\n",
       "      <th>compliment_cute</th>\n",
       "      <th>compliment_funny</th>\n",
       "      <th>compliment_hot</th>\n",
       "      <th>compliment_list</th>\n",
       "      <th>compliment_more</th>\n",
       "      <th>compliment_note</th>\n",
       "      <th>compliment_photos</th>\n",
       "      <th>compliment_plain</th>\n",
       "      <th>compliment_profile</th>\n",
       "      <th>compliment_writer</th>\n",
       "      <th>cool</th>\n",
       "      <th>elite</th>\n",
       "      <th>fans</th>\n",
       "      <th>friends</th>\n",
       "      <th>funny</th>\n",
       "      <th>name</th>\n",
       "      <th>review_count</th>\n",
       "      <th>useful</th>\n",
       "      <th>user_id</th>\n",
       "      <th>yelping_since</th>\n",
       "    </tr>\n",
       "  </thead>\n",
       "  <tbody>\n",
       "    <tr>\n",
       "      <th>2</th>\n",
       "      <td>2</td>\n",
       "      <td>3.71</td>\n",
       "      <td>0</td>\n",
       "      <td>0</td>\n",
       "      <td>0</td>\n",
       "      <td>0</td>\n",
       "      <td>0</td>\n",
       "      <td>0</td>\n",
       "      <td>1</td>\n",
       "      <td>0</td>\n",
       "      <td>0</td>\n",
       "      <td>0</td>\n",
       "      <td>0</td>\n",
       "      <td>10</td>\n",
       "      <td>NaN</td>\n",
       "      <td>0</td>\n",
       "      <td>4N-HU_T32hLENLntsNKNBg, pSY2vwWLgWfGVAAiKQzMng...</td>\n",
       "      <td>8</td>\n",
       "      <td>David</td>\n",
       "      <td>16</td>\n",
       "      <td>28</td>\n",
       "      <td>bc8C_eETBWL0olvFSJJd0w</td>\n",
       "      <td>2013-10-04 00:16:10</td>\n",
       "    </tr>\n",
       "    <tr>\n",
       "      <th>6</th>\n",
       "      <td>6</td>\n",
       "      <td>4.39</td>\n",
       "      <td>4991</td>\n",
       "      <td>889</td>\n",
       "      <td>4991</td>\n",
       "      <td>5233</td>\n",
       "      <td>152</td>\n",
       "      <td>314</td>\n",
       "      <td>1600</td>\n",
       "      <td>428</td>\n",
       "      <td>3635</td>\n",
       "      <td>333</td>\n",
       "      <td>1086</td>\n",
       "      <td>15319</td>\n",
       "      <td>2006,2007,2008,2009,2010,2011,2012,2013</td>\n",
       "      <td>696</td>\n",
       "      <td>RJQTcJVlBsJ3_Yo0JSFQQg, GWt_h78k1CBBkE1NpThGfQ...</td>\n",
       "      <td>19356</td>\n",
       "      <td>Keane</td>\n",
       "      <td>1122</td>\n",
       "      <td>13311</td>\n",
       "      <td>TEtzbpgA2BFBrC0y0sCbfw</td>\n",
       "      <td>2006-02-15 18:29:35</td>\n",
       "    </tr>\n",
       "    <tr>\n",
       "      <th>8</th>\n",
       "      <td>8</td>\n",
       "      <td>4.21</td>\n",
       "      <td>95</td>\n",
       "      <td>7</td>\n",
       "      <td>95</td>\n",
       "      <td>60</td>\n",
       "      <td>3</td>\n",
       "      <td>16</td>\n",
       "      <td>31</td>\n",
       "      <td>2</td>\n",
       "      <td>72</td>\n",
       "      <td>7</td>\n",
       "      <td>34</td>\n",
       "      <td>1244</td>\n",
       "      <td>2006,2007,2008,2009,2010,2011,2012</td>\n",
       "      <td>57</td>\n",
       "      <td>ctr_BlCf3Ogny-vLs8E9tQ, c6HT44PKCaXqzN_BdgKPCw...</td>\n",
       "      <td>693</td>\n",
       "      <td>Tanya</td>\n",
       "      <td>859</td>\n",
       "      <td>1630</td>\n",
       "      <td>T0gWkTHWRChVUe_Dn1F8nw</td>\n",
       "      <td>2005-07-20 22:38:17</td>\n",
       "    </tr>\n",
       "    <tr>\n",
       "      <th>9</th>\n",
       "      <td>9</td>\n",
       "      <td>4.53</td>\n",
       "      <td>14</td>\n",
       "      <td>2</td>\n",
       "      <td>14</td>\n",
       "      <td>13</td>\n",
       "      <td>0</td>\n",
       "      <td>3</td>\n",
       "      <td>12</td>\n",
       "      <td>5</td>\n",
       "      <td>8</td>\n",
       "      <td>0</td>\n",
       "      <td>3</td>\n",
       "      <td>185</td>\n",
       "      <td>NaN</td>\n",
       "      <td>15</td>\n",
       "      <td>N-xeG3U6rUkjVtQ0o-5YZA, wnO99pBbGqwqOoTQM25iCw...</td>\n",
       "      <td>70</td>\n",
       "      <td>Trace</td>\n",
       "      <td>124</td>\n",
       "      <td>202</td>\n",
       "      <td>NQffx45eJaeqhFcMadKUQA</td>\n",
       "      <td>2008-12-10 22:59:45</td>\n",
       "    </tr>\n",
       "    <tr>\n",
       "      <th>10</th>\n",
       "      <td>10</td>\n",
       "      <td>3.60</td>\n",
       "      <td>5</td>\n",
       "      <td>0</td>\n",
       "      <td>5</td>\n",
       "      <td>1</td>\n",
       "      <td>0</td>\n",
       "      <td>0</td>\n",
       "      <td>4</td>\n",
       "      <td>3</td>\n",
       "      <td>11</td>\n",
       "      <td>0</td>\n",
       "      <td>4</td>\n",
       "      <td>34</td>\n",
       "      <td>2017,2018</td>\n",
       "      <td>9</td>\n",
       "      <td>CfGCj80EdA-xS-mTWlAn4Q, JgD2Rk9K07MkZgG7Nb9YzA...</td>\n",
       "      <td>26</td>\n",
       "      <td>Peter</td>\n",
       "      <td>47</td>\n",
       "      <td>57</td>\n",
       "      <td>gvXtMj3XuPr0xHjgmlmtng</td>\n",
       "      <td>2014-01-05 20:45:54</td>\n",
       "    </tr>\n",
       "  </tbody>\n",
       "</table>\n",
       "</div>"
      ],
      "text/plain": [
       "    Unnamed: 0  average_stars  ...                 user_id        yelping_since\n",
       "2            2           3.71  ...  bc8C_eETBWL0olvFSJJd0w  2013-10-04 00:16:10\n",
       "6            6           4.39  ...  TEtzbpgA2BFBrC0y0sCbfw  2006-02-15 18:29:35\n",
       "8            8           4.21  ...  T0gWkTHWRChVUe_Dn1F8nw  2005-07-20 22:38:17\n",
       "9            9           4.53  ...  NQffx45eJaeqhFcMadKUQA  2008-12-10 22:59:45\n",
       "10          10           3.60  ...  gvXtMj3XuPr0xHjgmlmtng  2014-01-05 20:45:54\n",
       "\n",
       "[5 rows x 23 columns]"
      ]
     },
     "execution_count": 14,
     "metadata": {
      "tags": []
     },
     "output_type": "execute_result"
    }
   ],
   "source": [
    "user_df.head()"
   ]
  },
  {
   "cell_type": "code",
   "execution_count": 0,
   "metadata": {
    "colab": {},
    "colab_type": "code",
    "id": "hzVYf2pJJBcb"
   },
   "outputs": [],
   "source": [
    "# fix indexes\n",
    "user_df.index = range(user_df.shape[0])"
   ]
  },
  {
   "cell_type": "code",
   "execution_count": 16,
   "metadata": {
    "colab": {
     "base_uri": "https://localhost:8080/",
     "height": 433
    },
    "colab_type": "code",
    "executionInfo": {
     "elapsed": 917,
     "status": "ok",
     "timestamp": 1576275324635,
     "user": {
      "displayName": "Tanvi Gautam Gautam Pareek",
      "photoUrl": "",
      "userId": "02734580879175804847"
     },
     "user_tz": 300
    },
    "id": "0QZ3wcunJBce",
    "outputId": "c097c3ef-e8bf-40f0-9e4b-42ae31f01e1b"
   },
   "outputs": [
    {
     "data": {
      "text/plain": [
       "Unnamed: 0                0\n",
       "average_stars             0\n",
       "compliment_cool           0\n",
       "compliment_cute           0\n",
       "compliment_funny          0\n",
       "compliment_hot            0\n",
       "compliment_list           0\n",
       "compliment_more           0\n",
       "compliment_note           0\n",
       "compliment_photos         0\n",
       "compliment_plain          0\n",
       "compliment_profile        0\n",
       "compliment_writer         0\n",
       "cool                      0\n",
       "elite                 49277\n",
       "fans                      0\n",
       "friends                   0\n",
       "funny                     0\n",
       "name                      0\n",
       "review_count              0\n",
       "useful                    0\n",
       "user_id                   0\n",
       "yelping_since             0\n",
       "dtype: int64"
      ]
     },
     "execution_count": 16,
     "metadata": {
      "tags": []
     },
     "output_type": "execute_result"
    }
   ],
   "source": [
    "# check na\n",
    "user_df.isnull().sum() # elite has many NA, better make binary\n"
   ]
  },
  {
   "cell_type": "code",
   "execution_count": 0,
   "metadata": {
    "colab": {},
    "colab_type": "code",
    "id": "-6VgLSeGJBch"
   },
   "outputs": [],
   "source": [
    "# feature engineering\n",
    "user_df['is_elite'] = ~np.array(user_df.elite.isnull())\n"
   ]
  },
  {
   "cell_type": "code",
   "execution_count": 18,
   "metadata": {
    "colab": {
     "base_uri": "https://localhost:8080/",
     "height": 104
    },
    "colab_type": "code",
    "executionInfo": {
     "elapsed": 1004,
     "status": "ok",
     "timestamp": 1576275332140,
     "user": {
      "displayName": "Tanvi Gautam Gautam Pareek",
      "photoUrl": "",
      "userId": "02734580879175804847"
     },
     "user_tz": 300
    },
    "id": "QrjFkmwxJBck",
    "outputId": "1ff21151-05b3-4c48-a357-6c370e7eadd0"
   },
   "outputs": [
    {
     "data": {
      "text/plain": [
       "count     66968\n",
       "unique        2\n",
       "top       False\n",
       "freq      49277\n",
       "Name: is_elite, dtype: object"
      ]
     },
     "execution_count": 18,
     "metadata": {
      "tags": []
     },
     "output_type": "execute_result"
    }
   ],
   "source": [
    "user_df.is_elite.describe()"
   ]
  },
  {
   "cell_type": "code",
   "execution_count": 20,
   "metadata": {
    "colab": {
     "base_uri": "https://localhost:8080/",
     "height": 35
    },
    "colab_type": "code",
    "executionInfo": {
     "elapsed": 926,
     "status": "ok",
     "timestamp": 1576275337601,
     "user": {
      "displayName": "Tanvi Gautam Gautam Pareek",
      "photoUrl": "",
      "userId": "02734580879175804847"
     },
     "user_tz": 300
    },
    "id": "3uMYS3tOJBcs",
    "outputId": "a3bea3b4-e94c-4899-a86e-38c43f86a15c"
   },
   "outputs": [
    {
     "data": {
      "text/plain": [
       "str"
      ]
     },
     "execution_count": 20,
     "metadata": {
      "tags": []
     },
     "output_type": "execute_result"
    }
   ],
   "source": [
    "type(user_df.yelping_since[0])# the dates are str"
   ]
  },
  {
   "cell_type": "code",
   "execution_count": 21,
   "metadata": {
    "colab": {
     "base_uri": "https://localhost:8080/",
     "height": 35
    },
    "colab_type": "code",
    "executionInfo": {
     "elapsed": 916,
     "status": "ok",
     "timestamp": 1576275339829,
     "user": {
      "displayName": "Tanvi Gautam Gautam Pareek",
      "photoUrl": "",
      "userId": "02734580879175804847"
     },
     "user_tz": 300
    },
    "id": "0L5FR8LoJBcy",
    "outputId": "44433403-5cf2-454b-83e2-e6c561d764eb"
   },
   "outputs": [
    {
     "data": {
      "text/plain": [
       "'2013'"
      ]
     },
     "execution_count": 21,
     "metadata": {
      "tags": []
     },
     "output_type": "execute_result"
    }
   ],
   "source": [
    "user_df.yelping_since[0].split('-')[0]# get the year"
   ]
  },
  {
   "cell_type": "code",
   "execution_count": 0,
   "metadata": {
    "colab": {},
    "colab_type": "code",
    "id": "bs0Yz790JBc1"
   },
   "outputs": [],
   "source": [
    "yr_ls = [eval(x.split('-')[0]) for x in user_df.yelping_since]\n",
    "user_df['year'] = yr_ls"
   ]
  },
  {
   "cell_type": "code",
   "execution_count": 0,
   "metadata": {
    "colab": {},
    "colab_type": "code",
    "id": "ue_IQjiFJBc3"
   },
   "outputs": [],
   "source": [
    "user_df.to_csv('user1.csv')"
   ]
  },
  {
   "cell_type": "code",
   "execution_count": 24,
   "metadata": {
    "colab": {
     "base_uri": "https://localhost:8080/",
     "height": 35
    },
    "colab_type": "code",
    "executionInfo": {
     "elapsed": 79470,
     "status": "ok",
     "timestamp": 1576275438477,
     "user": {
      "displayName": "Tanvi Gautam Gautam Pareek",
      "photoUrl": "",
      "userId": "02734580879175804847"
     },
     "user_tz": 300
    },
    "id": "_GuhJRBPJBc6",
    "outputId": "b651db06-cc6f-4315-8fbd-7c87d6047462"
   },
   "outputs": [
    {
     "name": "stdout",
     "output_type": "stream",
     "text": [
      "Uploaded file with ID 1-LR5wz9FHjB4C-EUaNlsRMkLD8PQC7XX\n"
     ]
    }
   ],
   "source": [
    "!pip install -U -q PyDrive\n",
    "from pydrive.auth import GoogleAuth\n",
    "from pydrive.drive import GoogleDrive\n",
    "from google.colab import auth\n",
    "from oauth2client.client import GoogleCredentials\n",
    "# Authenticate and create the PyDrive client.\n",
    "# This only needs to be done once in a notebook.\n",
    "auth.authenticate_user()\n",
    "gauth = GoogleAuth()\n",
    "gauth.credentials = GoogleCredentials.get_application_default()\n",
    "drive = GoogleDrive(gauth)\n",
    "# Create & upload a file.\n",
    "uploaded = drive.CreateFile({'title': 'user1.csv'})\n",
    "uploaded.SetContentFile('user1.csv')\n",
    "uploaded.Upload()\n",
    "print('Uploaded file with ID {}'.format(uploaded.get('id')))"
   ]
  }
 ],
 "metadata": {
  "colab": {
   "name": "User_Cleaning.ipynb",
   "provenance": []
  },
  "kernelspec": {
   "display_name": "Python 3",
   "language": "python",
   "name": "python3"
  },
  "language_info": {
   "codemirror_mode": {
    "name": "ipython",
    "version": 3
   },
   "file_extension": ".py",
   "mimetype": "text/x-python",
   "name": "python",
   "nbconvert_exporter": "python",
   "pygments_lexer": "ipython3",
   "version": "3.7.3"
  }
 },
 "nbformat": 4,
 "nbformat_minor": 1
}
